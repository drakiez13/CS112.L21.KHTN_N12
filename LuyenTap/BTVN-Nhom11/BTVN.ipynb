{
  "nbformat": 4,
  "nbformat_minor": 0,
  "metadata": {
    "colab": {
      "name": "BTVN.ipynb",
      "provenance": []
    },
    "kernelspec": {
      "name": "python3",
      "display_name": "Python 3"
    },
    "language_info": {
      "name": "python"
    }
  },
  "cells": [
    {
      "cell_type": "markdown",
      "metadata": {
        "id": "yFNcSI5gLA4r"
      },
      "source": [
        "# **1. Abstraction**"
      ]
    },
    {
      "cell_type": "markdown",
      "metadata": {
        "id": "UgqCfJO0Lqqk"
      },
      "source": [
        "Cho một mảng gồm các số nguyên dương, tìm ra mảng có 3 phần tử có tổng lớn nhất và thỏa tính chất 3 cạnh của một tam giác. Nếu không có mản con thảo điều kiện in ra -1"
      ]
    },
    {
      "cell_type": "markdown",
      "metadata": {
        "id": "YCe-V9GGLsqX"
      },
      "source": [
        "# 2. Decompose"
      ]
    },
    {
      "cell_type": "markdown",
      "metadata": {
        "id": "gXlBnbhIL2-S"
      },
      "source": [
        "- Tìm tổ hợp các mảng con có 3 phần tử\n",
        "- Kiểm tra điều kiện 3 cạnh của một tam giác\n",
        "- Tìm ra mảng con có tổng lớn nhất"
      ]
    },
    {
      "cell_type": "markdown",
      "metadata": {
        "id": "jjeyHpQKMaqg"
      },
      "source": [
        "# 3. Algorithm Design"
      ]
    },
    {
      "cell_type": "code",
      "metadata": {
        "colab": {
          "base_uri": "https://localhost:8080/"
        },
        "id": "49WaW4th9w2T",
        "outputId": "5acf6554-5bd2-48f1-fcbc-39f8c4fea50e"
      },
      "source": [
        "from itertools import combinations\n",
        "def check_re(arr):\n",
        "  if arr[0]<arr[1]+arr[2] and arr[1]<arr[0]+arr[2] and arr[2]<arr[0]+arr[1]:\n",
        "    return 1\n",
        "  return 0\n",
        "\n",
        "def split(arr):\n",
        "  return list(combinations(arr,3))\n",
        "\n",
        "def sum(arr):\n",
        "  sum=0\n",
        "  for i in arr:\n",
        "    sum+=int(i)\n",
        "  return sum\n",
        "\n",
        "def convert(arr):\n",
        "  res=[]\n",
        "  for i in arr:\n",
        "    i=list(i)\n",
        "    res.append(i)\n",
        "  return res\n",
        "  \n",
        "def check_perimeter(arr):\n",
        "  max=0\n",
        "  arr_max=[]\n",
        "  for i in arr:\n",
        "    if max<sum(i):\n",
        "      max=sum(i)\n",
        "      arr_max=i\n",
        "  return arr_max\n",
        "\n",
        "arr=[1,1,1,2,3,5]\n",
        "arr=split(arr)\n",
        "arr=convert(arr)\n",
        "res=[]\n",
        "for i in arr:\n",
        "  if check_re(i):\n",
        "    res.append(i)\n",
        "l=check_perimeter(res)\n",
        "if l!=[]:\n",
        "  for i in l:\n",
        "    print(i,end=' ')\n",
        "else:\n",
        "  print('-1')"
      ],
      "execution_count": 35,
      "outputs": [
        {
          "output_type": "stream",
          "text": [
            "1 1 1 "
          ],
          "name": "stdout"
        }
      ]
    }
  ]
}