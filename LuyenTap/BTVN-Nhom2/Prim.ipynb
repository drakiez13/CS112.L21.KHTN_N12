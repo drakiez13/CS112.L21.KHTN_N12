{
 "metadata": {
  "language_info": {
   "codemirror_mode": {
    "name": "ipython",
    "version": 3
   },
   "file_extension": ".py",
   "mimetype": "text/x-python",
   "name": "python",
   "nbconvert_exporter": "python",
   "pygments_lexer": "ipython3",
   "version": 3
  },
  "orig_nbformat": 2
 },
 "nbformat": 4,
 "nbformat_minor": 2,
 "cells": [
  {
   "source": [
    "**Câu 1:**\n",
    "Chứng minh bài toán tìm cây khung nhỏ nhất sử dụng thuật toán Prim có đặc điểm nhận dạng của thuật toán tham lam.\n",
    "- có cấu trúc con tối ưu: Trong thuật toán Prim mỗi khi ta thêm một đỉnh mới vào mstSet thì ta luôn được một cây khung nhỏ nhất của các đỉnh đó. Sau khi thêm tất cả các đỉnh vào mstSet thì thuật toán dừng lại.\n",
    "- có đặc tính tham lam: Trong thuật toán ta sẽ không so sánh lại với các cạnh đã chọn.\n",
    "**Câu 2:**\n",
    "Chứng minh thuật toán tham lam áp dụng cho activity selection sẽ ra kết quả tối ưu (the correctness of greedy algorithms)\n",
    "- Trước khi chạy thuật toán tham lam ta phải sắp xếp các hoạt động theo thứ tự tăng dân của thời gian kết thúc\n",
    "- Khi chạy thuật thuật toán tham lam cho bài toán này ta sẽ có 2 trường hợp xảy ra:\n",
    "    - TH1: các hoạt động không trùng thời gian với nhau: ta chỉ cận chọn hoạt động đó\n",
    "    - TH2: các hoạt động trùng thời gian với nhau: khi đó ta chỉ có thể chọn 1 trong các hoạt động trùng nhau đó. vì vậy hoạt động có thời gian kết thúc nhỏ nhất sẽ là lựa chọn tối ưu toàn cục\n",
    " "
   ],
   "cell_type": "markdown",
   "metadata": {}
  }
 ]
}